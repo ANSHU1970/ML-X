{
  "cells": [
    {
      "cell_type": "markdown",
      "metadata": {
        "id": "view-in-github",
        "colab_type": "text"
      },
      "source": [
        "<a href=\"https://colab.research.google.com/github/OpenCodeEra/ML-X/blob/main/Handwritten%20Digit%20Recognition/notebook.ipynb\" target=\"_parent\"><img src=\"https://colab.research.google.com/assets/colab-badge.svg\" alt=\"Open In Colab\"/></a>"
      ]
    },
    {
      "cell_type": "markdown",
      "metadata": {
        "id": "7AO_Z-Kf-2CX"
      },
      "source": [
        "# Handwritten digit Recognition\n",
        "\n",
        "*Handwritten digit recognition is a machine learning task that uses the digit dataset (MNIST here) to train and evaluate models for recognizing handwritten digits.*"
      ]
    },
    {
      "cell_type": "markdown",
      "source": [
        "## MNIST dataset of digit Recognition\n",
        "\n",
        "MNIST dataset is a popular dataset of 60,000 training and 10,000 test images of handwritten digits, labeled from 0 to 9. It is widely used in machine learning for training and evaluating handwritten digit recognition systems."
      ],
      "metadata": {
        "id": "MKthn4L0njRn"
      }
    },
    {
      "cell_type": "markdown",
      "source": [
        "## Import necessary libraries\n"
      ],
      "metadata": {
        "id": "TVT9ud7MeW7L"
      }
    },
    {
      "cell_type": "code",
      "source": [
        "import numpy as np # for numerical data and arrays\n",
        "import matplotlib.pyplot as plt # for visualizing data\n",
        "from sklearn import datasets # dataset\n",
        "from sklearn.svm import SVC # classifier algorithm\n",
        "from sklearn.model_selection import train_test_split # to split dataset into training and testing set\n",
        "from sklearn.metrics import classification_report, accuracy_score # model metrices"
      ],
      "metadata": {
        "id": "ic87u5e_Oe8U"
      },
      "execution_count": 18,
      "outputs": []
    },
    {
      "cell_type": "markdown",
      "metadata": {
        "id": "QCTrkqnCZLyD"
      },
      "source": [
        "## Load the dataset\n"
      ]
    },
    {
      "cell_type": "code",
      "execution_count": 19,
      "metadata": {
        "id": "faNPM5hqZMQc"
      },
      "outputs": [],
      "source": [
        "digits = datasets.load_digits() # loading popular mnist dataset for digit recognition\n",
        "\n",
        "x, y = digits.data, digits.target # initiallize input and target values\n",
        "\n",
        "x_train, x_test, y_train, y_test = train_test_split(x, y, test_size=0.2, random_state=42) # split data into two sets\n",
        "# random_state controls the randomness of the data split in train_test_split(), ensuring reproducibility."
      ]
    },
    {
      "cell_type": "markdown",
      "source": [
        "## Train the Model through SVM Classifier"
      ],
      "metadata": {
        "id": "yrGCkUrhfEyw"
      }
    },
    {
      "cell_type": "markdown",
      "source": [
        "### SVM Classifier\n",
        "\n",
        "*Supervised learning algorithm that finds a hyperplane to separate data points into two classes with the largest possible margin.*\n",
        "\n",
        "**Parameters:**\n",
        "\n",
        "* Kernel function: Transforms data points before the hyperplane is found.\n",
        "* Regularization parameter: Controls how much the algorithm penalizes complex hyperplanes."
      ],
      "metadata": {
        "id": "WtHX8xTPkLAV"
      }
    },
    {
      "cell_type": "code",
      "execution_count": 24,
      "metadata": {
        "id": "_9fukmNCd0Tx"
      },
      "outputs": [],
      "source": [
        "svm = SVC(kernel = 'linear') # define a model works on SVM algorithm\n",
        "svm.fit(x_train, y_train)"
      ]
    },
    {
      "cell_type": "markdown",
      "metadata": {
        "id": "jKJC1O2P-2Cx"
      },
      "source": [
        "## Model Metrices"
      ]
    },
    {
      "cell_type": "markdown",
      "source": [
        "### Classification Report Parameters\n",
        "\n",
        "* Precision: % of true positives from predicted positives\n",
        "\n",
        "* Recall: % of actual positives identified correctly\n",
        "\n",
        "* F1: Balanced score combining precision and recall\n",
        "\n",
        "* Support: no of data points for a class\n",
        "\n",
        "* Macro Avg: Equally weights class metrics\n",
        "\n",
        "* Weighted Avg: Weights class metrics by suppor"
      ],
      "metadata": {
        "id": "z9JqzhZTjdfX"
      }
    },
    {
      "cell_type": "code",
      "execution_count": 22,
      "metadata": {
        "colab": {
          "base_uri": "https://localhost:8080/"
        },
        "id": "zQQaJA9qeBlM",
        "outputId": "479cd05e-949f-4ad3-cde5-2465e9f04e48"
      },
      "outputs": [
        {
          "output_type": "stream",
          "name": "stdout",
          "text": [
            "Accuracy : 97.78%\n",
            "              precision    recall  f1-score   support\n",
            "\n",
            "           0       1.00      1.00      1.00        33\n",
            "           1       0.97      1.00      0.98        28\n",
            "           2       1.00      1.00      1.00        33\n",
            "           3       0.97      0.94      0.96        34\n",
            "           4       0.98      0.98      0.98        46\n",
            "           5       0.96      1.00      0.98        47\n",
            "           6       1.00      1.00      1.00        35\n",
            "           7       0.97      0.97      0.97        34\n",
            "           8       1.00      0.97      0.98        30\n",
            "           9       0.95      0.93      0.94        40\n",
            "\n",
            "    accuracy                           0.98       360\n",
            "   macro avg       0.98      0.98      0.98       360\n",
            "weighted avg       0.98      0.98      0.98       360\n",
            "\n"
          ]
        }
      ],
      "source": [
        "y_pred = svm.predict(x_test) # predict the values for test set\n",
        "\n",
        "accuracy = accuracy_score(y_test, y_pred) # find the accuracy by comparing predicted with actual\n",
        "print(f\"Accuracy : {accuracy * 100:.2f}%\")\n",
        "\n",
        "print(classification_report(y_test, y_pred)) # Classification report"
      ]
    },
    {
      "cell_type": "markdown",
      "source": [
        "## Prediction visualization"
      ],
      "metadata": {
        "id": "ioJMvUIajqyJ"
      }
    },
    {
      "cell_type": "code",
      "execution_count": 23,
      "metadata": {
        "colab": {
          "base_uri": "https://localhost:8080/",
          "height": 452
        },
        "id": "ou6GYeIqedWq",
        "outputId": "258c12f0-2fa0-411d-8654-3ebb74dafa3a"
      },
      "outputs": [
        {
          "output_type": "display_data",
          "data": {
            "text/plain": [
              "<Figure size 640x480 with 1 Axes>"
            ],
            "image/png": "[encoded data removed]"
          },
          "metadata": {}
        }
      ],
      "source": [
        "plt.imshow(x_test[0].reshape(8, 8), cmap=plt.cm.gray_r)\n",
        "plt.title(f\"predicted label : {y_pred[0]}\")\n",
        "plt.show() # show your results"
      ]
    }
  ],
  "metadata": {
    "colab": {
      "provenance": [],
      "toc_visible": true,
      "include_colab_link": true
    },
    "kernelspec": {
      "display_name": "Python 3",
      "name": "python3"
    },
    "language_info": {
      "name": "python"
    }
  },
  "nbformat": 4,
  "nbformat_minor": 0
}