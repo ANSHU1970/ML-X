{
  "cells": [
    {
      "cell_type": "markdown",
      "metadata": {
        "id": "view-in-github",
        "colab_type": "text"
      },
      "source": [
        "<a href=\"https://colab.research.google.com/github/krishna16sharma/ML-X/blob/main/Video%20Game%20Sales/notebook.ipynb\" target=\"_parent\"><img src=\"https://colab.research.google.com/assets/colab-badge.svg\" alt=\"Open In Colab\"/></a>"
      ]
    },
    {
      "cell_type": "markdown",
      "id": "a3d8b64f",
      "metadata": {
        "id": "a3d8b64f"
      },
      "source": [
        "# Video Game Sales"
      ]
    },
    {
      "cell_type": "markdown",
      "id": "d3e899bf",
      "metadata": {
        "id": "d3e899bf"
      },
      "source": [
        "This dataset contains a list of video games with sales greater than 100,000 copies."
      ]
    },
    {
      "cell_type": "markdown",
      "id": "e22b5b22",
      "metadata": {
        "id": "e22b5b22"
      },
      "source": [
        "# Import necessary libraries"
      ]
    },
    {
      "cell_type": "code",
      "execution_count": null,
      "id": "5eca13ae",
      "metadata": {
        "id": "5eca13ae"
      },
      "outputs": [],
      "source": [
        "import numpy as np # for numerical data and arrays\n",
        "import matplotlib.pyplot as plt # for visualizing data\n",
        "import pandas as pd # for loading dataset and creating dataframe"
      ]
    },
    {
      "cell_type": "markdown",
      "id": "f106904c",
      "metadata": {
        "id": "f106904c"
      },
      "source": [
        "# Load the dataset"
      ]
    },
    {
      "cell_type": "code",
      "execution_count": null,
      "id": "c4d4ec20",
      "metadata": {
        "id": "c4d4ec20",
        "outputId": "5512f698-ef66-440a-f692-c29324ceb562"
      },
      "outputs": [
        {
          "data": {
            "text/html": [
              "<div>\n",
              "<style scoped>\n",
              "    .dataframe tbody tr th:only-of-type {\n",
              "        vertical-align: middle;\n",
              "    }\n",
              "\n",
              "    .dataframe tbody tr th {\n",
              "        vertical-align: top;\n",
              "    }\n",
              "\n",
              "    .dataframe thead th {\n",
              "        text-align: right;\n",
              "    }\n",
              "</style>\n",
              "<table border=\"1\" class=\"dataframe\">\n",
              "  <thead>\n",
              "    <tr style=\"text-align: right;\">\n",
              "      <th></th>\n",
              "      <th>Rank</th>\n",
              "      <th>Name</th>\n",
              "      <th>Platform</th>\n",
              "      <th>Year</th>\n",
              "      <th>Genre</th>\n",
              "      <th>Publisher</th>\n",
              "      <th>NA_Sales</th>\n",
              "      <th>EU_Sales</th>\n",
              "      <th>JP_Sales</th>\n",
              "      <th>Other_Sales</th>\n",
              "      <th>Global_Sales</th>\n",
              "    </tr>\n",
              "  </thead>\n",
              "  <tbody>\n",
              "    <tr>\n",
              "      <th>0</th>\n",
              "      <td>1</td>\n",
              "      <td>Wii Sports</td>\n",
              "      <td>Wii</td>\n",
              "      <td>2006.0</td>\n",
              "      <td>Sports</td>\n",
              "      <td>Nintendo</td>\n",
              "      <td>41.49</td>\n",
              "      <td>29.02</td>\n",
              "      <td>3.77</td>\n",
              "      <td>8.46</td>\n",
              "      <td>82.74</td>\n",
              "    </tr>\n",
              "    <tr>\n",
              "      <th>1</th>\n",
              "      <td>2</td>\n",
              "      <td>Super Mario Bros.</td>\n",
              "      <td>NES</td>\n",
              "      <td>1985.0</td>\n",
              "      <td>Platform</td>\n",
              "      <td>Nintendo</td>\n",
              "      <td>29.08</td>\n",
              "      <td>3.58</td>\n",
              "      <td>6.81</td>\n",
              "      <td>0.77</td>\n",
              "      <td>40.24</td>\n",
              "    </tr>\n",
              "    <tr>\n",
              "      <th>2</th>\n",
              "      <td>3</td>\n",
              "      <td>Mario Kart Wii</td>\n",
              "      <td>Wii</td>\n",
              "      <td>2008.0</td>\n",
              "      <td>Racing</td>\n",
              "      <td>Nintendo</td>\n",
              "      <td>15.85</td>\n",
              "      <td>12.88</td>\n",
              "      <td>3.79</td>\n",
              "      <td>3.31</td>\n",
              "      <td>35.82</td>\n",
              "    </tr>\n",
              "    <tr>\n",
              "      <th>3</th>\n",
              "      <td>4</td>\n",
              "      <td>Wii Sports Resort</td>\n",
              "      <td>Wii</td>\n",
              "      <td>2009.0</td>\n",
              "      <td>Sports</td>\n",
              "      <td>Nintendo</td>\n",
              "      <td>15.75</td>\n",
              "      <td>11.01</td>\n",
              "      <td>3.28</td>\n",
              "      <td>2.96</td>\n",
              "      <td>33.00</td>\n",
              "    </tr>\n",
              "    <tr>\n",
              "      <th>4</th>\n",
              "      <td>5</td>\n",
              "      <td>Pokemon Red/Pokemon Blue</td>\n",
              "      <td>GB</td>\n",
              "      <td>1996.0</td>\n",
              "      <td>Role-Playing</td>\n",
              "      <td>Nintendo</td>\n",
              "      <td>11.27</td>\n",
              "      <td>8.89</td>\n",
              "      <td>10.22</td>\n",
              "      <td>1.00</td>\n",
              "      <td>31.37</td>\n",
              "    </tr>\n",
              "  </tbody>\n",
              "</table>\n",
              "</div>"
            ],
            "text/plain": [
              "   Rank                      Name Platform    Year         Genre Publisher  \\\n",
              "0     1                Wii Sports      Wii  2006.0        Sports  Nintendo   \n",
              "1     2         Super Mario Bros.      NES  1985.0      Platform  Nintendo   \n",
              "2     3            Mario Kart Wii      Wii  2008.0        Racing  Nintendo   \n",
              "3     4         Wii Sports Resort      Wii  2009.0        Sports  Nintendo   \n",
              "4     5  Pokemon Red/Pokemon Blue       GB  1996.0  Role-Playing  Nintendo   \n",
              "\n",
              "   NA_Sales  EU_Sales  JP_Sales  Other_Sales  Global_Sales  \n",
              "0     41.49     29.02      3.77         8.46         82.74  \n",
              "1     29.08      3.58      6.81         0.77         40.24  \n",
              "2     15.85     12.88      3.79         3.31         35.82  \n",
              "3     15.75     11.01      3.28         2.96         33.00  \n",
              "4     11.27      8.89     10.22         1.00         31.37  "
            ]
          },
          "execution_count": 3,
          "metadata": {},
          "output_type": "execute_result"
        }
      ],
      "source": [
        "df = pd.read_csv('vgsales.csv')\n",
        "df.head()"
      ]
    },
    {
      "cell_type": "code",
      "execution_count": null,
      "id": "977564ce",
      "metadata": {
        "id": "977564ce",
        "outputId": "4dc48e45-739c-41db-fd97-c0840705170b"
      },
      "outputs": [
        {
          "data": {
            "text/plain": [
              "(16598, 11)"
            ]
          },
          "execution_count": 8,
          "metadata": {},
          "output_type": "execute_result"
        }
      ],
      "source": [
        "df.shape # Shape of dataset"
      ]
    },
    {
      "cell_type": "markdown",
      "id": "742f8791",
      "metadata": {
        "id": "742f8791"
      },
      "source": [
        "# Begin Analysis"
      ]
    },
    {
      "cell_type": "markdown",
      "id": "81c0e3bd",
      "metadata": {
        "id": "81c0e3bd"
      },
      "source": [
        "Let us check for null values first."
      ]
    },
    {
      "cell_type": "code",
      "execution_count": null,
      "id": "75960eda",
      "metadata": {
        "id": "75960eda",
        "outputId": "205ea8ba-fc5c-413f-d007-a770f932aa97"
      },
      "outputs": [
        {
          "data": {
            "text/plain": [
              "Rank              0\n",
              "Name              0\n",
              "Platform          0\n",
              "Year            271\n",
              "Genre             0\n",
              "Publisher        58\n",
              "NA_Sales          0\n",
              "EU_Sales          0\n",
              "JP_Sales          0\n",
              "Other_Sales       0\n",
              "Global_Sales      0\n",
              "dtype: int64"
            ]
          },
          "execution_count": 7,
          "metadata": {},
          "output_type": "execute_result"
        }
      ],
      "source": [
        "df.isnull().sum()"
      ]
    },
    {
      "cell_type": "markdown",
      "id": "140dbd77",
      "metadata": {
        "id": "140dbd77"
      },
      "source": [
        "Year and publisher seem to have null values."
      ]
    },
    {
      "cell_type": "markdown",
      "id": "bcacc961",
      "metadata": {
        "id": "bcacc961"
      },
      "source": [
        "Let us also get more information about the columns like datatypes"
      ]
    },
    {
      "cell_type": "code",
      "execution_count": null,
      "id": "05b79ffe",
      "metadata": {
        "id": "05b79ffe",
        "outputId": "4ee3c8d4-31aa-41ee-e254-9e64b2423e57"
      },
      "outputs": [
        {
          "name": "stdout",
          "output_type": "stream",
          "text": [
            "<class 'pandas.core.frame.DataFrame'>\n",
            "RangeIndex: 16598 entries, 0 to 16597\n",
            "Data columns (total 11 columns):\n",
            " #   Column        Non-Null Count  Dtype  \n",
            "---  ------        --------------  -----  \n",
            " 0   Rank          16598 non-null  int64  \n",
            " 1   Name          16598 non-null  object \n",
            " 2   Platform      16598 non-null  object \n",
            " 3   Year          16327 non-null  float64\n",
            " 4   Genre         16598 non-null  object \n",
            " 5   Publisher     16540 non-null  object \n",
            " 6   NA_Sales      16598 non-null  float64\n",
            " 7   EU_Sales      16598 non-null  float64\n",
            " 8   JP_Sales      16598 non-null  float64\n",
            " 9   Other_Sales   16598 non-null  float64\n",
            " 10  Global_Sales  16598 non-null  float64\n",
            "dtypes: float64(6), int64(1), object(4)\n",
            "memory usage: 1.4+ MB\n"
          ]
        }
      ],
      "source": [
        "df.info()"
      ]
    },
    {
      "cell_type": "markdown",
      "id": "c7a5ec53",
      "metadata": {
        "id": "c7a5ec53"
      },
      "source": [
        "For the numeric datatypes, we can get some useful stats which will help us analyse the data better."
      ]
    },
    {
      "cell_type": "code",
      "execution_count": null,
      "id": "ae484739",
      "metadata": {
        "id": "ae484739",
        "outputId": "08ead928-9c4b-4936-8038-16e40e7d50a4"
      },
      "outputs": [
        {
          "data": {
            "text/html": [
              "<div>\n",
              "<style scoped>\n",
              "    .dataframe tbody tr th:only-of-type {\n",
              "        vertical-align: middle;\n",
              "    }\n",
              "\n",
              "    .dataframe tbody tr th {\n",
              "        vertical-align: top;\n",
              "    }\n",
              "\n",
              "    .dataframe thead th {\n",
              "        text-align: right;\n",
              "    }\n",
              "</style>\n",
              "<table border=\"1\" class=\"dataframe\">\n",
              "  <thead>\n",
              "    <tr style=\"text-align: right;\">\n",
              "      <th></th>\n",
              "      <th>Rank</th>\n",
              "      <th>Year</th>\n",
              "      <th>NA_Sales</th>\n",
              "      <th>EU_Sales</th>\n",
              "      <th>JP_Sales</th>\n",
              "      <th>Other_Sales</th>\n",
              "      <th>Global_Sales</th>\n",
              "    </tr>\n",
              "  </thead>\n",
              "  <tbody>\n",
              "    <tr>\n",
              "      <th>count</th>\n",
              "      <td>16598.000000</td>\n",
              "      <td>16327.000000</td>\n",
              "      <td>16598.000000</td>\n",
              "      <td>16598.000000</td>\n",
              "      <td>16598.000000</td>\n",
              "      <td>16598.000000</td>\n",
              "      <td>16598.000000</td>\n",
              "    </tr>\n",
              "    <tr>\n",
              "      <th>mean</th>\n",
              "      <td>8300.605254</td>\n",
              "      <td>2006.406443</td>\n",
              "      <td>0.264667</td>\n",
              "      <td>0.146652</td>\n",
              "      <td>0.077782</td>\n",
              "      <td>0.048063</td>\n",
              "      <td>0.537441</td>\n",
              "    </tr>\n",
              "    <tr>\n",
              "      <th>std</th>\n",
              "      <td>4791.853933</td>\n",
              "      <td>5.828981</td>\n",
              "      <td>0.816683</td>\n",
              "      <td>0.505351</td>\n",
              "      <td>0.309291</td>\n",
              "      <td>0.188588</td>\n",
              "      <td>1.555028</td>\n",
              "    </tr>\n",
              "    <tr>\n",
              "      <th>min</th>\n",
              "      <td>1.000000</td>\n",
              "      <td>1980.000000</td>\n",
              "      <td>0.000000</td>\n",
              "      <td>0.000000</td>\n",
              "      <td>0.000000</td>\n",
              "      <td>0.000000</td>\n",
              "      <td>0.010000</td>\n",
              "    </tr>\n",
              "    <tr>\n",
              "      <th>25%</th>\n",
              "      <td>4151.250000</td>\n",
              "      <td>2003.000000</td>\n",
              "      <td>0.000000</td>\n",
              "      <td>0.000000</td>\n",
              "      <td>0.000000</td>\n",
              "      <td>0.000000</td>\n",
              "      <td>0.060000</td>\n",
              "    </tr>\n",
              "    <tr>\n",
              "      <th>50%</th>\n",
              "      <td>8300.500000</td>\n",
              "      <td>2007.000000</td>\n",
              "      <td>0.080000</td>\n",
              "      <td>0.020000</td>\n",
              "      <td>0.000000</td>\n",
              "      <td>0.010000</td>\n",
              "      <td>0.170000</td>\n",
              "    </tr>\n",
              "    <tr>\n",
              "      <th>75%</th>\n",
              "      <td>12449.750000</td>\n",
              "      <td>2010.000000</td>\n",
              "      <td>0.240000</td>\n",
              "      <td>0.110000</td>\n",
              "      <td>0.040000</td>\n",
              "      <td>0.040000</td>\n",
              "      <td>0.470000</td>\n",
              "    </tr>\n",
              "    <tr>\n",
              "      <th>max</th>\n",
              "      <td>16600.000000</td>\n",
              "      <td>2020.000000</td>\n",
              "      <td>41.490000</td>\n",
              "      <td>29.020000</td>\n",
              "      <td>10.220000</td>\n",
              "      <td>10.570000</td>\n",
              "      <td>82.740000</td>\n",
              "    </tr>\n",
              "  </tbody>\n",
              "</table>\n",
              "</div>"
            ],
            "text/plain": [
              "               Rank          Year      NA_Sales      EU_Sales      JP_Sales  \\\n",
              "count  16598.000000  16327.000000  16598.000000  16598.000000  16598.000000   \n",
              "mean    8300.605254   2006.406443      0.264667      0.146652      0.077782   \n",
              "std     4791.853933      5.828981      0.816683      0.505351      0.309291   \n",
              "min        1.000000   1980.000000      0.000000      0.000000      0.000000   \n",
              "25%     4151.250000   2003.000000      0.000000      0.000000      0.000000   \n",
              "50%     8300.500000   2007.000000      0.080000      0.020000      0.000000   \n",
              "75%    12449.750000   2010.000000      0.240000      0.110000      0.040000   \n",
              "max    16600.000000   2020.000000     41.490000     29.020000     10.220000   \n",
              "\n",
              "        Other_Sales  Global_Sales  \n",
              "count  16598.000000  16598.000000  \n",
              "mean       0.048063      0.537441  \n",
              "std        0.188588      1.555028  \n",
              "min        0.000000      0.010000  \n",
              "25%        0.000000      0.060000  \n",
              "50%        0.010000      0.170000  \n",
              "75%        0.040000      0.470000  \n",
              "max       10.570000     82.740000  "
            ]
          },
          "execution_count": 10,
          "metadata": {},
          "output_type": "execute_result"
        }
      ],
      "source": [
        "df.describe()"
      ]
    },
    {
      "cell_type": "markdown",
      "id": "6bf0dd4b",
      "metadata": {
        "id": "6bf0dd4b"
      },
      "source": [
        "So, from the above table we see that the data is from year 1980 to 2020.\n",
        "Also, we see the stats region-wise (NA, EU, JP, Other) as well as the global sales. NA sales seem to be the highest and JP is the lowest."
      ]
    },
    {
      "cell_type": "markdown",
      "id": "2b5d1ea7",
      "metadata": {
        "id": "2b5d1ea7"
      },
      "source": [
        "We saw some null values before. We can impute the null values and fill them. It won't be 100% accurate but it will be a good approximation for us to work with. Since the null values were in the year and Publisher, we can use mode to impute the null values.\n",
        "<br>\n",
        "Let us save it to a new dataframe."
      ]
    },
    {
      "cell_type": "code",
      "execution_count": null,
      "id": "ea6ce41a",
      "metadata": {
        "id": "ea6ce41a"
      },
      "outputs": [],
      "source": [
        "df1 = df.copy()\n",
        "df1.Year = df1.Year.fillna(df1.Year.mode()[0])\n",
        "df1.Publisher =df1.Publisher.fillna(df1.Publisher.mode()[0])"
      ]
    },
    {
      "cell_type": "code",
      "execution_count": null,
      "id": "e9720d32",
      "metadata": {
        "id": "e9720d32",
        "outputId": "43b35263-19fc-481c-dfe2-7a882cb978e0"
      },
      "outputs": [
        {
          "data": {
            "text/plain": [
              "Rank            0\n",
              "Name            0\n",
              "Platform        0\n",
              "Year            0\n",
              "Genre           0\n",
              "Publisher       0\n",
              "NA_Sales        0\n",
              "EU_Sales        0\n",
              "JP_Sales        0\n",
              "Other_Sales     0\n",
              "Global_Sales    0\n",
              "dtype: int64"
            ]
          },
          "execution_count": 12,
          "metadata": {},
          "output_type": "execute_result"
        }
      ],
      "source": [
        "df1.isnull().sum() # Checking for null values again"
      ]
    },
    {
      "cell_type": "markdown",
      "id": "5e57d7e5",
      "metadata": {
        "id": "5e57d7e5"
      },
      "source": [
        "# Visualizations"
      ]
    },
    {
      "cell_type": "markdown",
      "id": "3ea2d5a7",
      "metadata": {
        "id": "3ea2d5a7"
      },
      "source": [
        "Let us see which genre had the most sales."
      ]
    },
    {
      "cell_type": "code",
      "execution_count": null,
      "id": "cee5f07d",
      "metadata": {
        "id": "cee5f07d",
        "outputId": "a123e6bd-2c10-4798-f046-d9914ee9947d"
      },
      "outputs": [
        {
          "data": {
            "image/png": "[encoded data removed]",
            "text/plain": [
              "<Figure size 432x432 with 1 Axes>"
            ]
          },
          "metadata": {},
          "output_type": "display_data"
        }
      ],
      "source": [
        "genre = df1.Genre.value_counts().values\n",
        "labels =df1.Genre.value_counts().index\n",
        "plt.figure(figsize=(6, 6))\n",
        "plt.title('Genre by Sales',fontdict={'fontweight':'bold'})\n",
        "plt.pie(genre,labels=labels,autopct='%.2f %%',pctdistance=0.9)\n",
        "plt.legend(bbox_to_anchor=(1.5,1.0),loc='upper left')\n",
        "plt.show()"
      ]
    },
    {
      "cell_type": "markdown",
      "id": "bd1eadbc",
      "metadata": {
        "id": "bd1eadbc"
      },
      "source": [
        "<b> Action </b> seems to have highest sales followed by <b> Sports </b>. <b>Puzzle</b> is the least sold genre."
      ]
    },
    {
      "cell_type": "markdown",
      "id": "234557d0",
      "metadata": {
        "id": "234557d0"
      },
      "source": [
        "Let us now visualize the top 10 years of sales."
      ]
    },
    {
      "cell_type": "code",
      "execution_count": null,
      "id": "461a0b9a",
      "metadata": {
        "id": "461a0b9a",
        "outputId": "31aa5747-2587-4037-ac80-0e2076ea6622"
      },
      "outputs": [
        {
          "data": {
            "image/png": "[encoded data removed]",
            "text/plain": [
              "<Figure size 864x576 with 1 Axes>"
            ]
          },
          "metadata": {
            "needs_background": "light"
          },
          "output_type": "display_data"
        }
      ],
      "source": [
        "year= df1.Year.value_counts().head(10)\n",
        "plt.figure(figsize=(12,8))\n",
        "\n",
        "plt.xticks(year.index)\n",
        "plt.title('Top 10 sales by Years',fontdict={'fontweight':'bold','fontsize':16})\n",
        "\n",
        "plt.bar(year.index,year.values)\n",
        "plt.show()"
      ]
    },
    {
      "cell_type": "markdown",
      "id": "af00b75b",
      "metadata": {
        "id": "af00b75b"
      },
      "source": [
        "Year <b> 2009 </b> seems to have the highest sales."
      ]
    },
    {
      "cell_type": "markdown",
      "id": "219f5bcb",
      "metadata": {
        "id": "219f5bcb"
      },
      "source": [
        "Now let us see which platform / console made the highest sales."
      ]
    },
    {
      "cell_type": "code",
      "execution_count": null,
      "id": "4d2dc044",
      "metadata": {
        "id": "4d2dc044",
        "outputId": "b08dd371-6be8-4c77-eda1-e59edd88f9e3"
      },
      "outputs": [
        {
          "data": {
            "image/png": "[encoded data removed]",
            "text/plain": [
              "<Figure size 864x576 with 1 Axes>"
            ]
          },
          "metadata": {
            "needs_background": "light"
          },
          "output_type": "display_data"
        }
      ],
      "source": [
        "platform = df1.Platform.value_counts()\n",
        "plt.figure(figsize=(12,8))\n",
        "\n",
        "plt.barh(platform.index,platform.values)\n",
        "\n",
        "for i,v in enumerate(platform.values):\n",
        "    plt.text(v,i,str(v))\n",
        "\n",
        "plt.title('Sales by Platform',fontdict={'fontweight':'bold','fontsize':'14'})\n",
        "plt.xlabel('Counts')\n",
        "plt.ylabel(\"Platform\")\n",
        "\n",
        "plt.show()"
      ]
    },
    {
      "cell_type": "markdown",
      "id": "8f951e6f",
      "metadata": {
        "id": "8f951e6f"
      },
      "source": [
        "Nintendo <b> DS </b> is in the lead with Sony's <b> PS2 </b> right behind it."
      ]
    },
    {
      "cell_type": "markdown",
      "id": "8ef07027",
      "metadata": {
        "id": "8ef07027"
      },
      "source": [
        "Let us now visualize the sales by countries."
      ]
    },
    {
      "cell_type": "code",
      "execution_count": null,
      "id": "91877501",
      "metadata": {
        "id": "91877501",
        "outputId": "58ce0bf3-a48e-441a-c094-ff5206ec213e"
      },
      "outputs": [
        {
          "data": {
            "image/png": "[encoded data removed]",
            "text/plain": [
              "<Figure size 432x432 with 1 Axes>"
            ]
          },
          "metadata": {},
          "output_type": "display_data"
        }
      ],
      "source": [
        "a = df1.NA_Sales.sum().round()\n",
        "b = df1.EU_Sales.sum().round()\n",
        "c = df1.JP_Sales.sum().round()\n",
        "d = df1.Other_Sales.sum().round()\n",
        "e = df1.Global_Sales.sum().round()\n",
        "values = [a,b,c,d]\n",
        "labels=['North America','Europe','Japan','Other Sales']\n",
        "\n",
        "plt.figure(figsize=(6, 6))\n",
        "plt.title('Sales by Countries',fontdict={'fontweight':'bold'})\n",
        "plt.pie(values,labels=labels,autopct='%.2f %%',pctdistance=0.9)\n",
        "plt.legend(bbox_to_anchor=(1.5,1.0),loc='upper left')\n",
        "plt.show()"
      ]
    },
    {
      "cell_type": "markdown",
      "id": "e1f81b0e",
      "metadata": {
        "id": "e1f81b0e"
      },
      "source": [
        "<b> NA </b> is clearly in the lead with almost 50% sales recorded."
      ]
    },
    {
      "cell_type": "code",
      "execution_count": null,
      "id": "42fbcefc",
      "metadata": {
        "id": "42fbcefc"
      },
      "outputs": [],
      "source": []
    }
  ],
  "metadata": {
    "kernelspec": {
      "display_name": "Python 3 (ipykernel)",
      "language": "python",
      "name": "python3"
    },
    "language_info": {
      "codemirror_mode": {
        "name": "ipython",
        "version": 3
      },
      "file_extension": ".py",
      "mimetype": "text/x-python",
      "name": "python",
      "nbconvert_exporter": "python",
      "pygments_lexer": "ipython3",
      "version": "3.7.3"
    },
    "colab": {
      "provenance": [],
      "include_colab_link": true
    }
  },
  "nbformat": 4,
  "nbformat_minor": 5
}