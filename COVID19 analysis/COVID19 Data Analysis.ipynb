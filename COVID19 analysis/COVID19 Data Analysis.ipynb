{
 "cells": [
  {
   "cell_type": "code",
   "execution_count": 1,
   "id": "ec59ac4d",
   "metadata": {},
   "outputs": [],
   "source": [
    "# Link for dataset: https://www.kaggle.com/datasets/imdevskp/corona-virus-report/\n",
    "# The dataset contains data from 22nd January 2020 to 27th Jult 2020\n",
    "# The dataset contains majority of the countries but not every country"
   ]
  },
  {
   "cell_type": "code",
   "execution_count": 2,
   "id": "e4baa4c7",
   "metadata": {},
   "outputs": [],
   "source": [
    "# Importing the necessary libraries\n",
    "import pandas as pd\n",
    "import numpy as np\n",
    "import matplotlib.pyplot as plt\n",
    "import seaborn as sns"
   ]
  },
  {
   "cell_type": "code",
   "execution_count": 3,
   "id": "43a0a35b",
   "metadata": {},
   "outputs": [
    {
     "data": {
      "text/plain": [
       "'\\nPandas and Numpy libraries are imported for dataframe handling. Matplotlib and Seaborn are libraries are imported to generate \\nplots for the analysis\\n'"
      ]
     },
     "execution_count": 3,
     "metadata": {},
     "output_type": "execute_result"
    }
   ],
   "source": [
    "\"\"\"\n",
    "Pandas and Numpy libraries are imported for dataframe handling. Matplotlib and Seaborn are libraries are imported to generate \n",
    "plots for the analysis\n",
    "\"\"\""
   ]
  },
  {
   "cell_type": "code",
   "execution_count": 4,
   "id": "341034c0",
   "metadata": {},
   "outputs": [],
   "source": [
    "# Reading the dataset\n",
    "df1 = pd.read_csv(\"country_wise_latest.csv\")\n",
    "df2 = pd.read_csv(\"covid_19_clean_complete.csv\")\n",
    "df3 = pd.read_csv(\"day_wise.csv\")\n",
    "df4 = pd.read_csv(\"full_grouped.csv\")\n",
    "df5 = pd.read_csv(\"usa_county_wise.csv\")\n",
    "df6 = pd.read_csv(\"worldometer_data.csv\")"
   ]
  },
  {
   "cell_type": "code",
   "execution_count": 5,
   "id": "0e405c0a",
   "metadata": {},
   "outputs": [
    {
     "data": {
      "text/html": [
       "<div>\n",
       "<style scoped>\n",
       "    .dataframe tbody tr th:only-of-type {\n",
       "        vertical-align: middle;\n",
       "    }\n",
       "\n",
       "    .dataframe tbody tr th {\n",
       "        vertical-align: top;\n",
       "    }\n",
       "\n",
       "    .dataframe thead th {\n",
       "        text-align: right;\n",
       "    }\n",
       "</style>\n",
       "<table border=\"1\" class=\"dataframe\">\n",
       "  <thead>\n",
       "    <tr style=\"text-align: right;\">\n",
       "      <th></th>\n",
       "      <th>Country/Region</th>\n",
       "      <th>Continent</th>\n",
       "      <th>Population</th>\n",
       "      <th>TotalCases</th>\n",
       "      <th>NewCases</th>\n",
       "      <th>TotalDeaths</th>\n",
       "      <th>NewDeaths</th>\n",
       "      <th>TotalRecovered</th>\n",
       "      <th>NewRecovered</th>\n",
       "      <th>ActiveCases</th>\n",
       "      <th>Serious,Critical</th>\n",
       "      <th>Tot Cases/1M pop</th>\n",
       "      <th>Deaths/1M pop</th>\n",
       "      <th>TotalTests</th>\n",
       "      <th>Tests/1M pop</th>\n",
       "      <th>WHO Region</th>\n",
       "    </tr>\n",
       "  </thead>\n",
       "  <tbody>\n",
       "    <tr>\n",
       "      <th>0</th>\n",
       "      <td>USA</td>\n",
       "      <td>North America</td>\n",
       "      <td>3.311981e+08</td>\n",
       "      <td>5032179</td>\n",
       "      <td>NaN</td>\n",
       "      <td>162804.0</td>\n",
       "      <td>NaN</td>\n",
       "      <td>2576668.0</td>\n",
       "      <td>NaN</td>\n",
       "      <td>2292707.0</td>\n",
       "      <td>18296.0</td>\n",
       "      <td>15194.0</td>\n",
       "      <td>492.0</td>\n",
       "      <td>63139605.0</td>\n",
       "      <td>190640.0</td>\n",
       "      <td>Americas</td>\n",
       "    </tr>\n",
       "    <tr>\n",
       "      <th>1</th>\n",
       "      <td>Brazil</td>\n",
       "      <td>South America</td>\n",
       "      <td>2.127107e+08</td>\n",
       "      <td>2917562</td>\n",
       "      <td>NaN</td>\n",
       "      <td>98644.0</td>\n",
       "      <td>NaN</td>\n",
       "      <td>2047660.0</td>\n",
       "      <td>NaN</td>\n",
       "      <td>771258.0</td>\n",
       "      <td>8318.0</td>\n",
       "      <td>13716.0</td>\n",
       "      <td>464.0</td>\n",
       "      <td>13206188.0</td>\n",
       "      <td>62085.0</td>\n",
       "      <td>Americas</td>\n",
       "    </tr>\n",
       "    <tr>\n",
       "      <th>2</th>\n",
       "      <td>India</td>\n",
       "      <td>Asia</td>\n",
       "      <td>1.381345e+09</td>\n",
       "      <td>2025409</td>\n",
       "      <td>NaN</td>\n",
       "      <td>41638.0</td>\n",
       "      <td>NaN</td>\n",
       "      <td>1377384.0</td>\n",
       "      <td>NaN</td>\n",
       "      <td>606387.0</td>\n",
       "      <td>8944.0</td>\n",
       "      <td>1466.0</td>\n",
       "      <td>30.0</td>\n",
       "      <td>22149351.0</td>\n",
       "      <td>16035.0</td>\n",
       "      <td>South-EastAsia</td>\n",
       "    </tr>\n",
       "    <tr>\n",
       "      <th>3</th>\n",
       "      <td>Russia</td>\n",
       "      <td>Europe</td>\n",
       "      <td>1.459409e+08</td>\n",
       "      <td>871894</td>\n",
       "      <td>NaN</td>\n",
       "      <td>14606.0</td>\n",
       "      <td>NaN</td>\n",
       "      <td>676357.0</td>\n",
       "      <td>NaN</td>\n",
       "      <td>180931.0</td>\n",
       "      <td>2300.0</td>\n",
       "      <td>5974.0</td>\n",
       "      <td>100.0</td>\n",
       "      <td>29716907.0</td>\n",
       "      <td>203623.0</td>\n",
       "      <td>Europe</td>\n",
       "    </tr>\n",
       "    <tr>\n",
       "      <th>4</th>\n",
       "      <td>South Africa</td>\n",
       "      <td>Africa</td>\n",
       "      <td>5.938157e+07</td>\n",
       "      <td>538184</td>\n",
       "      <td>NaN</td>\n",
       "      <td>9604.0</td>\n",
       "      <td>NaN</td>\n",
       "      <td>387316.0</td>\n",
       "      <td>NaN</td>\n",
       "      <td>141264.0</td>\n",
       "      <td>539.0</td>\n",
       "      <td>9063.0</td>\n",
       "      <td>162.0</td>\n",
       "      <td>3149807.0</td>\n",
       "      <td>53044.0</td>\n",
       "      <td>Africa</td>\n",
       "    </tr>\n",
       "  </tbody>\n",
       "</table>\n",
       "</div>"
      ],
      "text/plain": [
       "  Country/Region      Continent    Population  TotalCases  NewCases  \\\n",
       "0            USA  North America  3.311981e+08     5032179       NaN   \n",
       "1         Brazil  South America  2.127107e+08     2917562       NaN   \n",
       "2          India           Asia  1.381345e+09     2025409       NaN   \n",
       "3         Russia         Europe  1.459409e+08      871894       NaN   \n",
       "4   South Africa         Africa  5.938157e+07      538184       NaN   \n",
       "\n",
       "   TotalDeaths  NewDeaths  TotalRecovered  NewRecovered  ActiveCases  \\\n",
       "0     162804.0        NaN       2576668.0           NaN    2292707.0   \n",
       "1      98644.0        NaN       2047660.0           NaN     771258.0   \n",
       "2      41638.0        NaN       1377384.0           NaN     606387.0   \n",
       "3      14606.0        NaN        676357.0           NaN     180931.0   \n",
       "4       9604.0        NaN        387316.0           NaN     141264.0   \n",
       "\n",
       "   Serious,Critical  Tot Cases/1M pop  Deaths/1M pop  TotalTests  \\\n",
       "0           18296.0           15194.0          492.0  63139605.0   \n",
       "1            8318.0           13716.0          464.0  13206188.0   \n",
       "2            8944.0            1466.0           30.0  22149351.0   \n",
       "3            2300.0            5974.0          100.0  29716907.0   \n",
       "4             539.0            9063.0          162.0   3149807.0   \n",
       "\n",
       "   Tests/1M pop      WHO Region  \n",
       "0      190640.0        Americas  \n",
       "1       62085.0        Americas  \n",
       "2       16035.0  South-EastAsia  \n",
       "3      203623.0          Europe  \n",
       "4       53044.0          Africa  "
      ]
     },
     "execution_count": 5,
     "metadata": {},
     "output_type": "execute_result"
    }
   ],
   "source": [
    "# Printing the dataframe.head() to get a general idea of the dataframe content.\n",
    "df1.head()\n",
    "df2.head()\n",
    "df3.head()\n",
    "df4.head()\n",
    "df5.head()\n",
    "df6.head()"
   ]
  },
  {
   "cell_type": "code",
   "execution_count": null,
   "id": "6e3863a9",
   "metadata": {},
   "outputs": [],
   "source": [
    "# Renaming the dataframe column, just for ease in coding\n",
    "df1.rename(columns={\"Country/Region\": \"Country\"}, inplace=True)\n",
    "df1.head()"
   ]
  },
  {
   "cell_type": "code",
   "execution_count": null,
   "id": "e01561e1",
   "metadata": {
    "scrolled": true
   },
   "outputs": [],
   "source": [
    "df1.plot.bar(x=\"Country\", y=\"Confirmed\", figsize=(50, 15))\n",
    "# This plot shows the count of confirmed cases for each country/region"
   ]
  },
  {
   "cell_type": "code",
   "execution_count": null,
   "id": "c09b4467",
   "metadata": {},
   "outputs": [],
   "source": [
    "\"\"\"\n",
    "The above plot shows the count of confirmed cases during the duration given in the dataset for each country.\n",
    "There are few countries with very high number of confirmed cases like Brazil, India, US, Russia.\n",
    "\"\"\""
   ]
  },
  {
   "cell_type": "code",
   "execution_count": null,
   "id": "45bd437c",
   "metadata": {
    "scrolled": true
   },
   "outputs": [],
   "source": [
    "tempdf1 = df2[df2[\"Country/Region\"]==\"India\"]\n",
    "tempdf1.plot.bar(x=\"Date\", y=\"Confirmed\", figsize=(50, 15))\n",
    "# THis plot gives the distribution of confirmed cases across dates for India"
   ]
  },
  {
   "cell_type": "code",
   "execution_count": null,
   "id": "0a7c6546",
   "metadata": {},
   "outputs": [],
   "source": [
    "\"\"\"\n",
    "The above plot shows that there is gradual increase in the number of cases as the days pass. The plot shows the distribution of\n",
    "cases across dates for India.\n",
    "\"\"\""
   ]
  },
  {
   "cell_type": "code",
   "execution_count": null,
   "id": "09b4140f",
   "metadata": {},
   "outputs": [],
   "source": [
    "df3.head()"
   ]
  },
  {
   "cell_type": "code",
   "execution_count": null,
   "id": "b9dd3f6e",
   "metadata": {
    "scrolled": true
   },
   "outputs": [],
   "source": [
    "plt.figure(figsize=(50, 15))\n",
    "sns.lineplot(x=\"Date\", y=\"Confirmed\", data=df3, marker='o', color='b', linewidth=2.5 )\n",
    "plt.xlabel(\"Date\")\n",
    "plt.ylabel(\"Total confirmed cases\")\n",
    "plt.title(\"Total count of confirmed cases in World across dates\")\n",
    "plt.xticks(rotation=45)\n",
    "plt.show()\n",
    "# This plot shows the total count of confirmed cases across dates in the world "
   ]
  },
  {
   "cell_type": "code",
   "execution_count": null,
   "id": "a6bccf16",
   "metadata": {},
   "outputs": [],
   "source": [
    "\"\"\"\n",
    "This line-chart shows the increase in total count of confirmed cases across each date. The considered data here is of all \n",
    "countries present in the database. There are few dates where there is very sharp increase in the count of cases like around 20th\n",
    "March 2020.\n",
    "\"\"\""
   ]
  },
  {
   "cell_type": "code",
   "execution_count": null,
   "id": "6c4302c3",
   "metadata": {},
   "outputs": [],
   "source": [
    "df4.head()"
   ]
  },
  {
   "cell_type": "code",
   "execution_count": null,
   "id": "2bae71d4",
   "metadata": {},
   "outputs": [],
   "source": [
    "df5.head()"
   ]
  },
  {
   "cell_type": "code",
   "execution_count": null,
   "id": "21e6b523",
   "metadata": {},
   "outputs": [],
   "source": [
    "tempdf2 = df5.groupby(\"Province_State\")[\"Confirmed\"].count()\n",
    "tempdf2 = pd.DataFrame(tempdf2)\n",
    "tempdf2 = tempdf2.reset_index()\n",
    "tempdf2.plot.bar(x=\"Province_State\", y=\"Confirmed\", figsize=(50, 15))\n",
    "plt.xlabel(\"States/Province\")\n",
    "plt.ylabel(\"Confirmed cases\")\n",
    "plt.show()\n",
    "# The plot shows count of confirmed cases for each statesof USA"
   ]
  },
  {
   "cell_type": "code",
   "execution_count": null,
   "id": "23a5e531",
   "metadata": {},
   "outputs": [],
   "source": [
    "\"\"\"\n",
    "This plot shows the count of confirmed cases for each province in the US. There were some provinces/states like Georgia, Texas,\n",
    "Virginia, etc which had high number of confirmed cases as compared to other states. Also, there were some states like Northern\n",
    "Mariana Islands, Guam, Virgin Islands, American Samoa which had very less number of confirmed cases.\n",
    "\"\"\""
   ]
  },
  {
   "cell_type": "code",
   "execution_count": null,
   "id": "244c0b62",
   "metadata": {},
   "outputs": [],
   "source": [
    "tempdf3 = df6.sort_values(by=\"Population\", ascending=False).head(5)\n",
    "plt.figure(figsize=(50, 15))\n",
    "plt.pie(tempdf3[\"Population\"], labels=tempdf3[\"Country/Region\"], colors=sns.color_palette(\"Set3\"), startangle=90)\n",
    "plt.title(\"Population Pie-chart for top-5 countires\")\n",
    "total = sum(tempdf3[\"Population\"])\n",
    "legend_labels = [f'{category} ({value})' for category, value in zip(tempdf3[\"Population\"], tempdf3[\"Country/Region\"])]\n",
    "plt.legend(legend_labels, title=f'Total: {total}', loc='lower right')\n",
    "plt.show()\n",
    "# This pi-chart shows population distribution of top-5 countries present in the database"
   ]
  },
  {
   "cell_type": "code",
   "execution_count": null,
   "id": "cdeb9b18",
   "metadata": {},
   "outputs": [],
   "source": [
    "\"\"\"\n",
    "This chart shows the countries with highest population. India is the country present in the database which had the highest \n",
    "population. \n",
    "\"\"\""
   ]
  },
  {
   "cell_type": "code",
   "execution_count": null,
   "id": "0038810c",
   "metadata": {},
   "outputs": [],
   "source": [
    "tempdf4 = df6.sort_values(by=\"Population\", ascending=False).head(10)\n",
    "tempdf4"
   ]
  },
  {
   "cell_type": "code",
   "execution_count": null,
   "id": "e3f1af61",
   "metadata": {},
   "outputs": [],
   "source": [
    "df6.head()\n",
    "tempdf4 = df6.sort_values(by=\"Population\", ascending=False).head(10)\n",
    "plt.figure(figsize=(50, 15))\n",
    "plt.bar(tempdf4[\"Country/Region\"], tempdf4[\"Population\"], label=\"Population\", color=\"blue\")\n",
    "plt.bar(tempdf4[\"Country/Region\"], tempdf4[\"TotalCases\"], label=\"Cases\", color=\"orange\", bottom=tempdf4[\"Population\"])\n",
    "plt.xlabel(\"Country\")\n",
    "plt.ylabel(\"Total Cases\")\n",
    "plt.title(\"Stacked bar graph for population and confirmed cases\")\n",
    "plt.legend()\n",
    "plt.show()\n",
    "# This plot shows stacked bar graph for population and total cases for top-10 most populated countries"
   ]
  },
  {
   "cell_type": "code",
   "execution_count": null,
   "id": "e26cf1e8",
   "metadata": {},
   "outputs": [],
   "source": [
    "\"\"\"\n",
    "This chart shows the population and the total cases stackes on a bar-graph across different countries. India has the highest \n",
    "population. The blue bar shows the population and the orange bar shows the confirmed cases. It considers only 10 countries \n",
    "having maximum population.\n",
    "\"\"\""
   ]
  },
  {
   "cell_type": "code",
   "execution_count": null,
   "id": "8ca6fb1c",
   "metadata": {},
   "outputs": [],
   "source": [
    "tempdf4 = df6.groupby(\"Continent\")[\"TotalCases\"].sum()\n",
    "tempdf4 = pd.DataFrame(tempdf4)\n",
    "tempdf4 = tempdf4.reset_index()\n",
    "plt.figure(figsize=(50, 15))\n",
    "plt.pie(tempdf4[\"TotalCases\"], labels=tempdf4[\"Continent\"], colors=sns.color_palette(\"Set1\"), startangle=90)\n",
    "total = sum(tempdf4[\"TotalCases\"])\n",
    "legend_labels = [f'{category} ({value})' for category, value in zip(tempdf4[\"TotalCases\"], tempdf4[\"Continent\"])]\n",
    "plt.legend(legend_labels, title=f'Total: {total}', loc='lower right')\n",
    "plt.title(\"Cases Pie-chart for Continet\")\n",
    "# This plot shows continent-wise distribution of total cases"
   ]
  },
  {
   "cell_type": "code",
   "execution_count": null,
   "id": "09ea6a2f",
   "metadata": {},
   "outputs": [],
   "source": [
    "\"\"\"\n",
    "This pie-chart shows the distribution of confirmed cases across continents. North America continent has the maximum count of \n",
    "confirmed cases.\n",
    "\"\"\""
   ]
  },
  {
   "cell_type": "code",
   "execution_count": null,
   "id": "2a665db5",
   "metadata": {},
   "outputs": [],
   "source": [
    "tempdf5 = df1.groupby(\"WHO Region\")[\"Confirmed\"].sum()\n",
    "tempdf5 = pd.DataFrame(tempdf5)\n",
    "tempdf5 = tempdf5.reset_index()\n",
    "plt.figure(figsize=(50, 15))\n",
    "plt.pie(tempdf5[\"Confirmed\"], labels=tempdf5[\"WHO Region\"], colors=sns.color_palette(\"Set2\"), startangle=90)\n",
    "total = sum(tempdf5[\"Confirmed\"])\n",
    "legend_labels = [f'{category} ({value})' for category, value in zip(tempdf5[\"Confirmed\"], tempdf5[\"WHO Region\"])]\n",
    "plt.legend(legend_labels, title=f'Total: {total}', loc='lower right')\n",
    "plt.title(\"Cases Pie-chart for Continet\")\n",
    "# This plot shows WHO region-wise distribution of total cases"
   ]
  },
  {
   "cell_type": "code",
   "execution_count": null,
   "id": "87aa9136",
   "metadata": {},
   "outputs": [],
   "source": [
    "\"\"\"\n",
    "This pie-chart shows the distribution of confirmed cases across WHO regions. Americas region has the maximum count of \n",
    "confirmed cases.\n",
    "\"\"\""
   ]
  },
  {
   "cell_type": "code",
   "execution_count": null,
   "id": "3ce9e6fc",
   "metadata": {},
   "outputs": [],
   "source": [
    "df6.rename(columns={\"Serious,Critical\": \"SeriousCases\", \"Country/Region\": \"Country\"}, inplace=True)\n",
    "plt.figure(figsize=(50, 15))\n",
    "plt.bar(df6[\"Country\"], (df6[\"SeriousCases\"]/df6[\"TotalCases\"])*100, label=\"Serious Cases\", color=\"blue\")\n",
    "plt.xlabel(\"Countries\")\n",
    "plt.ylabel(\"SeriousCases\")\n",
    "plt.xticks(rotation=45)\n",
    "plt.show()\n",
    "# This plot shows percentage of serious cases out of total cases for all countries"
   ]
  },
  {
   "cell_type": "code",
   "execution_count": null,
   "id": "d04b473e",
   "metadata": {},
   "outputs": [],
   "source": [
    "\"\"\"\n",
    "The bar graph shows the percentage of serious cases from total cases for each country. Australia, Barbados, French Polynesia, \n",
    "Indonesia, etc have the highest percentage of serious cases. Although their total count of confirmed cases is not much, their \n",
    "percentage of serious cases is quite high.\n",
    "\"\"\""
   ]
  },
  {
   "cell_type": "code",
   "execution_count": null,
   "id": "4e182cd1",
   "metadata": {},
   "outputs": [],
   "source": [
    "tempdf6 = df4.groupby(\"Country/Region\")[\"Deaths\"].sum() \n",
    "tempdf6 = pd.DataFrame(tempdf6).reset_index()\n",
    "tempdf7 = df4.groupby(\"Country/Region\")[\"Confirmed\"].sum()\n",
    "tempdf7 = pd.DataFrame(tempdf7).reset_index()\n",
    "merged_df = pd.merge(tempdf6, tempdf7, on='Country/Region')\n",
    "plt.figure(figsize=(50, 15))\n",
    "plt.bar(merged_df[\"Country/Region\"], (merged_df[\"Deaths\"]/merged_df[\"Confirmed\"])*100, label=\"Deaths/Confirmed\", color=\"red\")\n",
    "plt.xlabel(\"Countries\")\n",
    "plt.ylabel(\"Death rate\")\n",
    "plt.title(\"Death rate for different countries\")\n",
    "plt.xticks(rotation=45)\n",
    "plt.show()\n",
    "# This plot shows the death rate for different countries"
   ]
  },
  {
   "cell_type": "code",
   "execution_count": null,
   "id": "1b0f5846",
   "metadata": {},
   "outputs": [],
   "source": [
    "\"\"\"\n",
    "The above bar-graph shows the countries where the death rate is very high. Countries like Western Bank of Gaza, Israel, Finland,\n",
    "etc. have very high death rate. \n",
    "\"\"\""
   ]
  },
  {
   "cell_type": "code",
   "execution_count": null,
   "id": "b774abfe",
   "metadata": {
    "scrolled": true
   },
   "outputs": [],
   "source": [
    "distinct_countries = df4[\"Country/Region\"].unique()\n",
    "data = []\n",
    "for country in distinct_countries:\n",
    "    confirmed_cases = list(df4[df4[\"Country/Region\"]==country][\"Confirmed\"])\n",
    "    data.append(confirmed_cases)\n",
    "\n",
    "plt.figure(figsize=(60, 45))\n",
    "plt.boxplot(data, labels=distinct_countries)\n",
    "plt.xlabel(\"Countries\")\n",
    "plt.ylabel(\"Confirmed Cases Distribution\")\n",
    "plt.title(\"Box-plot showing distribution of cases across dates\")\n",
    "plt.xticks(rotation=45)\n",
    "plt.show()\n",
    "# This plot shows box-plot distribution for different countries"
   ]
  },
  {
   "cell_type": "code",
   "execution_count": null,
   "id": "7a28af33",
   "metadata": {},
   "outputs": [],
   "source": [
    "\"\"\"\n",
    "This box-plot shows the distribution of number of cases of each country. The y-axis contains number of cases on each date.\n",
    "\"\"\""
   ]
  },
  {
   "cell_type": "code",
   "execution_count": null,
   "id": "9158dc2a",
   "metadata": {},
   "outputs": [],
   "source": [
    "tempdf8 = df6[\"TotalTests\"]\n",
    "plt.figure(figsize=(60, 25))\n",
    "plt.bar(df6[\"Country\"], df6[\"TotalTests\"], color=\"orange\")\n",
    "plt.xlabel(\"Country\")\n",
    "plt.ylabel(\"Total tests conducted\")\n",
    "plt.title(\"Total tests conducted by each country\")\n",
    "plt.xticks(rotation=90)\n",
    "plt.show()\n",
    "# This bar plot shows the total tests conducted by each country"
   ]
  },
  {
   "cell_type": "code",
   "execution_count": null,
   "id": "4a8096f5",
   "metadata": {},
   "outputs": [],
   "source": [
    "\"\"\"\n",
    "The above bar graph shows the total tests conducted by each country in determining COVID-19 cases. USA, Brazil, India, Russia, \n",
    "etc. conducted maximum tests to determine COVID-19 cases. \n",
    "\"\"\""
   ]
  }
 ],
 "metadata": {
  "kernelspec": {
   "display_name": "Python 3 (ipykernel)",
   "language": "python",
   "name": "python3"
  },
  "language_info": {
   "codemirror_mode": {
    "name": "ipython",
    "version": 3
   },
   "file_extension": ".py",
   "mimetype": "text/x-python",
   "name": "python",
   "nbconvert_exporter": "python",
   "pygments_lexer": "ipython3",
   "version": "3.9.7"
  }
 },
 "nbformat": 4,
 "nbformat_minor": 5
}
