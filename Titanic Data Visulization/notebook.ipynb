{
  "cells": [
    {
      "cell_type": "markdown",
      "metadata": {
        "id": "view-in-github",
        "colab_type": "text"
      },
      "source": [
        "<a href=\"https://colab.research.google.com/github/OpenCodeEra/ML-X/blob/main/Titanic%20Data%20Visulization/notebook.ipynb\" target=\"_parent\"><img src=\"https://colab.research.google.com/assets/colab-badge.svg\" alt=\"Open In Colab\"/></a>"
      ]
    },
    {
      "cell_type": "markdown",
      "metadata": {
        "id": "7AO_Z-Kf-2CX"
      },
      "source": [
        "# Titanic Dataset Visualization\n",
        "\n",
        "**This notebook visualizes the Titanic dataset, one of the most popular datasets for data visualization.**\n",
        "\n"
      ]
    },
    {
      "cell_type": "markdown",
      "source": [
        "## Titanic Dataset\n",
        "\n",
        "_The Titanic dataset contains information about the passengers and crew on the Titanic ship, which sank in 1912. This dataset is popular because it is well-organized, easy to understand, and contains a variety of interesting features._"
      ],
      "metadata": {
        "id": "fKNqAeU4wEKW"
      }
    },
    {
      "cell_type": "markdown",
      "source": [
        "## Import Libraries"
      ],
      "metadata": {
        "id": "WQ4NkD4gwMRF"
      }
    },
    {
      "cell_type": "code",
      "source": [],
      "metadata": {
        "id": "snG4TTXTuB1q"
      },
      "execution_count": null,
      "outputs": []
    },
    {
      "cell_type": "markdown",
      "source": [
        "## Load Titanic Dataset"
      ],
      "metadata": {
        "id": "OtLo3yfIwDEr"
      }
    },
    {
      "cell_type": "code",
      "source": [],
      "metadata": {
        "id": "WfuuRj_7uC0f"
      },
      "execution_count": null,
      "outputs": []
    },
    {
      "cell_type": "markdown",
      "source": [
        "## Visualization Operations"
      ],
      "metadata": {
        "id": "Y2-mnYSJwVhL"
      }
    },
    {
      "cell_type": "code",
      "source": [],
      "metadata": {
        "id": "aRV4W3-ZwVE5"
      },
      "execution_count": null,
      "outputs": []
    }
  ],
  "metadata": {
    "colab": {
      "provenance": [],
      "toc_visible": true,
      "include_colab_link": true
    },
    "kernelspec": {
      "display_name": "Python 3",
      "name": "python3"
    },
    "language_info": {
      "name": "python"
    }
  },
  "nbformat": 4,
  "nbformat_minor": 0
}